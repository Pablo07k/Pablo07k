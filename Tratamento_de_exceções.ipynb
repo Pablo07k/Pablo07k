{
  "nbformat": 4,
  "nbformat_minor": 0,
  "metadata": {
    "colab": {
      "provenance": [],
      "authorship_tag": "ABX9TyPQSG19rnrwWXrQHhfiwoM7",
      "include_colab_link": true
    },
    "kernelspec": {
      "name": "python3",
      "display_name": "Python 3"
    },
    "language_info": {
      "name": "python"
    }
  },
  "cells": [
    {
      "cell_type": "markdown",
      "metadata": {
        "id": "view-in-github",
        "colab_type": "text"
      },
      "source": [
        "<a href=\"https://colab.research.google.com/github/Pablo07k/Pablo07k/blob/main/Tratamento_de_exce%C3%A7%C3%B5es.ipynb\" target=\"_parent\"><img src=\"https://colab.research.google.com/assets/colab-badge.svg\" alt=\"Open In Colab\"/></a>"
      ]
    },
    {
      "cell_type": "code",
      "execution_count": null,
      "metadata": {
        "id": "pr3eX-KtBJWf"
      },
      "outputs": [],
      "source": [
        "num = 1/ 0 #divisão por zero"
      ]
    },
    {
      "cell_type": "code",
      "source": [
        "10 + 'ae'"
      ],
      "metadata": {
        "id": "uGFy3CwvBUXp"
      },
      "execution_count": null,
      "outputs": []
    },
    {
      "cell_type": "code",
      "source": [
        "lista = [1, 2, 3]\n",
        "print(lista[4])"
      ],
      "metadata": {
        "id": "AwwkwBTbBfzT"
      },
      "execution_count": null,
      "outputs": []
    },
    {
      "cell_type": "code",
      "source": [
        "dicionario = {1:\"item 1\", 2:\"item 2\"}\n",
        "print(dicionario[5])"
      ],
      "metadata": {
        "id": "rvu12gmtBv0x"
      },
      "execution_count": null,
      "outputs": []
    },
    {
      "cell_type": "code",
      "source": [
        "while True print(\"Hello world\")"
      ],
      "metadata": {
        "id": "ibMfFpEpCAgD"
      },
      "execution_count": null,
      "outputs": []
    },
    {
      "cell_type": "code",
      "source": [
        "media = 9.0\n",
        "if (media > 8):\n",
        "    print(\"Aprovado\")\n",
        "else\n",
        "    print(\"Reprovado\")"
      ],
      "metadata": {
        "id": "mnxRZJ3qCILo"
      },
      "execution_count": null,
      "outputs": []
    },
    {
      "cell_type": "code",
      "source": [
        "4 + spam*3"
      ],
      "metadata": {
        "id": "FtPmRlTDCeOD"
      },
      "execution_count": null,
      "outputs": []
    },
    {
      "cell_type": "code",
      "source": [
        "print('2' + 2)"
      ],
      "metadata": {
        "id": "NusZTh70CiGU"
      },
      "execution_count": null,
      "outputs": []
    },
    {
      "cell_type": "code",
      "source": [
        "print(2 + '2')"
      ],
      "metadata": {
        "id": "fRYZqmtrCn-3"
      },
      "execution_count": null,
      "outputs": []
    },
    {
      "cell_type": "code",
      "source": [
        "print(math.sqrt(2))"
      ],
      "metadata": {
        "id": "ZOH7e_Y_CvOr"
      },
      "execution_count": null,
      "outputs": []
    },
    {
      "cell_type": "code",
      "source": [
        "import math\n",
        "print(math.sqrt(-2))"
      ],
      "metadata": {
        "id": "e7JTFcxQDVb9"
      },
      "execution_count": null,
      "outputs": []
    },
    {
      "cell_type": "code",
      "source": [
        "print(\"Abrindo um Arquivo!\")\n",
        "open(\"texto.txt\", \"r\")"
      ],
      "metadata": {
        "id": "nXm3Rc3rDqKV"
      },
      "execution_count": null,
      "outputs": []
    },
    {
      "cell_type": "code",
      "source": [
        "#Resolvendo as execuções"
      ],
      "metadata": {
        "id": "yOHsVUo1D3zo"
      },
      "execution_count": null,
      "outputs": []
    },
    {
      "cell_type": "code",
      "source": [
        "import math\n",
        "num = -2\n",
        "\n",
        "try:\n",
        "    result = math.sqrt(num)\n",
        "    print(\"A raiz quadrada\", result)\n",
        "except Exception:\n",
        "    print ('Não existe a raiz quadrada de n° negativo')"
      ],
      "metadata": {
        "id": "QFzWw8ZsECxG"
      },
      "execution_count": null,
      "outputs": []
    },
    {
      "cell_type": "code",
      "source": [
        "import math\n",
        "num = -2\n",
        "\n",
        "try:\n",
        "    result = math.sqrt(num)\n",
        "    print(\"A raiz quadrada\", result)\n",
        "except ValueError:\n",
        "    num = -num\n",
        "    print ('Transformando n° negativo em positivo')\n",
        "    result = math.sqrt(num)\n",
        "    print(\"A raiz quadrada\", result)"
      ],
      "metadata": {
        "id": "SRyN7ZBWKp_H"
      },
      "execution_count": null,
      "outputs": []
    },
    {
      "cell_type": "code",
      "source": [
        "try :\n",
        "     x = int(input(\"Enter number: \"))\n",
        "     x = x + 1\n",
        "     print(x)\n",
        "except:\n",
        "     print(\"Invalid input\")"
      ],
      "metadata": {
        "id": "8JbA-xgWLDrv"
      },
      "execution_count": null,
      "outputs": []
    },
    {
      "cell_type": "code",
      "source": [
        "try :\n",
        "     x = int(input(\"Enter number: \"))\n",
        "     x = x + 1\n",
        "     print(x)\n",
        "except:\n",
        "     print(\"Invalid input\")\n",
        "finally:\n",
        "     print(\"Valid input\")"
      ],
      "metadata": {
        "id": "dHFrgOzbLZ7Q"
      },
      "execution_count": null,
      "outputs": []
    },
    {
      "cell_type": "code",
      "source": [
        "def dividir(x, y):\n",
        "  try:\n",
        "      result = x / y\n",
        "  except ZeroDivisionError:\n",
        "      print(\"Division by zero!\")\n",
        "  else:\n",
        "      print(\"Result is\", result)\n",
        "dividir(2, 2)"
      ],
      "metadata": {
        "id": "jHxWx90tLkzc"
      },
      "execution_count": null,
      "outputs": []
    },
    {
      "cell_type": "code",
      "source": [
        "def Divide():\n",
        "  try:\n",
        "      num1 = int(input(\"1° num: \"))\n",
        "      num2 = int(input(\"2° num: \"))\n",
        "      result = (num1 / num2)\n",
        "      print(\"Divisão: \", result)\n",
        "  except ValueError:\n",
        "      print(\"Dado informado inválido!\")\n",
        "  except ZeroDivisionError\n",
        "      print(\"Divisão por zero!\")\n",
        "divide()"
      ],
      "metadata": {
        "id": "jsVapn2OL_-v"
      },
      "execution_count": null,
      "outputs": []
    },
    {
      "cell_type": "code",
      "source": [
        "def Divide():\n",
        "  try:\n",
        "      num1 = int(input(\"1° num: \"))\n",
        "      num2 = int(input(\"2° num: \"))\n",
        "      result = (num1 / num2)\n",
        "      print(\"Divisão: \", result)\n",
        "\n",
        "def VerificaDivisao():\n",
        "    try:\n",
        "        divide()\n",
        "  except ValueError:\n",
        "      print(\"Dado informado inválido!\")\n",
        "  except ZeroDivisionError\n",
        "      print(\"Divisão por zero!\")\n",
        "\n",
        "VerificaDivisao()"
      ],
      "metadata": {
        "id": "ImOWTEgkM7-7"
      },
      "execution_count": null,
      "outputs": []
    },
    {
      "cell_type": "code",
      "source": [
        "def ReadFile():\n",
        "    try:\n",
        "        print(\"Abrindo um Arquivo!\")\n",
        "        open(\"texto.txt\", \"r\")\n",
        "     except FileNotFoundError:\n",
        "        print(\"O arquivo não existe!\")\n",
        "\n",
        "ReadFile()"
      ],
      "metadata": {
        "id": "6-FQvE-5NUFE"
      },
      "execution_count": null,
      "outputs": []
    },
    {
      "cell_type": "code",
      "source": [
        "try:\n",
        "    print(\"Abrindo um Arquivo!\")\n",
        "    open(\"texto.txt\", \"r\")\n",
        "except FileNotFoundError as captura:\n",
        "    print(captura)"
      ],
      "metadata": {
        "id": "X_uONxhHNr_G"
      },
      "execution_count": null,
      "outputs": []
    },
    {
      "cell_type": "code",
      "source": [
        "import os\n",
        "\n",
        "try:\n",
        "    os.remove(\"teste.txt\")\n",
        "    print(\"Arquivo Removido!\")\n",
        "except FileNotFoundError as erro:\n",
        "    print(\"Erro: \", erro)\n",
        "    print(\"Aviso: Arquivo Inexistente!\")\n",
        "except PermissionError as erro:\n",
        "    print(\"Erro: \", erro)\n",
        "    print(\"Sem permissão de acesso!\")\n",
        "except IsADirectoryError as erro:\n",
        "    print(\"Erro: \", erro)\n",
        "    print(\"Tentativa de remover diretório!\")"
      ],
      "metadata": {
        "id": "d9z0aZWEOBp-"
      },
      "execution_count": null,
      "outputs": []
    }
  ]
}